{
  "nbformat": 4,
  "nbformat_minor": 0,
  "metadata": {
    "colab": {
      "name": "ParkerBurchett_big_data_lab_1.ipynb",
      "provenance": [],
      "collapsed_sections": [],
      "toc_visible": true,
      "machine_shape": "hm"
    },
    "kernelspec": {
      "display_name": "Python 3",
      "language": "python",
      "name": "python3"
    },
    "language_info": {
      "codemirror_mode": {
        "name": "ipython",
        "version": 3
      },
      "file_extension": ".py",
      "mimetype": "text/x-python",
      "name": "python",
      "nbconvert_exporter": "python",
      "pygments_lexer": "ipython3",
      "version": "3.6.7"
    }
  },
  "cells": [
    {
      "cell_type": "markdown",
      "metadata": {
        "id": "GTwDFnjHMk25"
      },
      "source": [
        "#Colab 1: Learn to use Apache Spark with Python (30 points)\n",
        "\n",
        "In this lab you will learn how to use [Apache Spark](https://spark.apache.org) on a Colab enviroment."
      ]
    },
    {
      "cell_type": "markdown",
      "metadata": {
        "id": "eXQzA01OS_yQ"
      },
      "source": [
        "### **Setup**"
      ]
    },
    {
      "cell_type": "markdown",
      "metadata": {
        "id": "AbYZoVVWOZA5"
      },
      "source": [
        "Let's setup Spark on your Colab environment.  Run the cell below!"
      ]
    },
    {
      "cell_type": "code",
      "metadata": {
        "colab": {
          "base_uri": "https://localhost:8080/"
        },
        "id": "dhzk3GE6S9RC",
        "outputId": "d79e4359-8b68-4bbe-e3a0-cae5d76525b2"
      },
      "source": [
        "!pip install pyspark\n",
        "!pip install -U -q PyDrive\n",
        "!apt install openjdk-8-jdk-headless -qq\n",
        "import os\n",
        "os.environ[\"JAVA_HOME\"] = \"/usr/lib/jvm/java-8-openjdk-amd64\""
      ],
      "execution_count": 1,
      "outputs": [
        {
          "output_type": "stream",
          "text": [
            "Collecting pyspark\n",
            "\u001b[?25l  Downloading https://files.pythonhosted.org/packages/f0/26/198fc8c0b98580f617cb03cb298c6056587b8f0447e20fa40c5b634ced77/pyspark-3.0.1.tar.gz (204.2MB)\n",
            "\u001b[K     |████████████████████████████████| 204.2MB 21kB/s \n",
            "\u001b[?25hCollecting py4j==0.10.9\n",
            "\u001b[?25l  Downloading https://files.pythonhosted.org/packages/9e/b6/6a4fb90cd235dc8e265a6a2067f2a2c99f0d91787f06aca4bcf7c23f3f80/py4j-0.10.9-py2.py3-none-any.whl (198kB)\n",
            "\u001b[K     |████████████████████████████████| 204kB 49.3MB/s \n",
            "\u001b[?25hBuilding wheels for collected packages: pyspark\n",
            "  Building wheel for pyspark (setup.py) ... \u001b[?25l\u001b[?25hdone\n",
            "  Created wheel for pyspark: filename=pyspark-3.0.1-py2.py3-none-any.whl size=204612242 sha256=5e5ad643c0a71cd40b95cd0d20507b52b05786f01dbb15cb948a4cea8e77f2e3\n",
            "  Stored in directory: /root/.cache/pip/wheels/5e/bd/07/031766ca628adec8435bb40f0bd83bb676ce65ff4007f8e73f\n",
            "Successfully built pyspark\n",
            "Installing collected packages: py4j, pyspark\n",
            "Successfully installed py4j-0.10.9 pyspark-3.0.1\n",
            "The following additional packages will be installed:\n",
            "  openjdk-8-jre-headless\n",
            "Suggested packages:\n",
            "  openjdk-8-demo openjdk-8-source libnss-mdns fonts-dejavu-extra\n",
            "  fonts-ipafont-gothic fonts-ipafont-mincho fonts-wqy-microhei\n",
            "  fonts-wqy-zenhei fonts-indic\n",
            "The following NEW packages will be installed:\n",
            "  openjdk-8-jdk-headless openjdk-8-jre-headless\n",
            "0 upgraded, 2 newly installed, 0 to remove and 12 not upgraded.\n",
            "Need to get 36.5 MB of archives.\n",
            "After this operation, 143 MB of additional disk space will be used.\n",
            "Selecting previously unselected package openjdk-8-jre-headless:amd64.\n",
            "(Reading database ... 146364 files and directories currently installed.)\n",
            "Preparing to unpack .../openjdk-8-jre-headless_8u275-b01-0ubuntu1~18.04_amd64.deb ...\n",
            "Unpacking openjdk-8-jre-headless:amd64 (8u275-b01-0ubuntu1~18.04) ...\n",
            "Selecting previously unselected package openjdk-8-jdk-headless:amd64.\n",
            "Preparing to unpack .../openjdk-8-jdk-headless_8u275-b01-0ubuntu1~18.04_amd64.deb ...\n",
            "Unpacking openjdk-8-jdk-headless:amd64 (8u275-b01-0ubuntu1~18.04) ...\n",
            "Setting up openjdk-8-jre-headless:amd64 (8u275-b01-0ubuntu1~18.04) ...\n",
            "update-alternatives: using /usr/lib/jvm/java-8-openjdk-amd64/jre/bin/orbd to provide /usr/bin/orbd (orbd) in auto mode\n",
            "update-alternatives: using /usr/lib/jvm/java-8-openjdk-amd64/jre/bin/servertool to provide /usr/bin/servertool (servertool) in auto mode\n",
            "update-alternatives: using /usr/lib/jvm/java-8-openjdk-amd64/jre/bin/tnameserv to provide /usr/bin/tnameserv (tnameserv) in auto mode\n",
            "Setting up openjdk-8-jdk-headless:amd64 (8u275-b01-0ubuntu1~18.04) ...\n",
            "update-alternatives: using /usr/lib/jvm/java-8-openjdk-amd64/bin/idlj to provide /usr/bin/idlj (idlj) in auto mode\n",
            "update-alternatives: using /usr/lib/jvm/java-8-openjdk-amd64/bin/wsimport to provide /usr/bin/wsimport (wsimport) in auto mode\n",
            "update-alternatives: using /usr/lib/jvm/java-8-openjdk-amd64/bin/jsadebugd to provide /usr/bin/jsadebugd (jsadebugd) in auto mode\n",
            "update-alternatives: using /usr/lib/jvm/java-8-openjdk-amd64/bin/native2ascii to provide /usr/bin/native2ascii (native2ascii) in auto mode\n",
            "update-alternatives: using /usr/lib/jvm/java-8-openjdk-amd64/bin/javah to provide /usr/bin/javah (javah) in auto mode\n",
            "update-alternatives: using /usr/lib/jvm/java-8-openjdk-amd64/bin/clhsdb to provide /usr/bin/clhsdb (clhsdb) in auto mode\n",
            "update-alternatives: using /usr/lib/jvm/java-8-openjdk-amd64/bin/xjc to provide /usr/bin/xjc (xjc) in auto mode\n",
            "update-alternatives: using /usr/lib/jvm/java-8-openjdk-amd64/bin/hsdb to provide /usr/bin/hsdb (hsdb) in auto mode\n",
            "update-alternatives: using /usr/lib/jvm/java-8-openjdk-amd64/bin/schemagen to provide /usr/bin/schemagen (schemagen) in auto mode\n",
            "update-alternatives: using /usr/lib/jvm/java-8-openjdk-amd64/bin/extcheck to provide /usr/bin/extcheck (extcheck) in auto mode\n",
            "update-alternatives: using /usr/lib/jvm/java-8-openjdk-amd64/bin/jhat to provide /usr/bin/jhat (jhat) in auto mode\n",
            "update-alternatives: using /usr/lib/jvm/java-8-openjdk-amd64/bin/wsgen to provide /usr/bin/wsgen (wsgen) in auto mode\n"
          ],
          "name": "stdout"
        }
      ]
    },
    {
      "cell_type": "markdown",
      "metadata": {
        "id": "ctU1dYjfOif7"
      },
      "source": [
        "Now we authenticate a Google Drive client to download files. Please follow the instruction to enter the authoriztion code.\n"
      ]
    },
    {
      "cell_type": "code",
      "metadata": {
        "id": "1dfnX7IAOkvH"
      },
      "source": [
        "from pydrive.auth import GoogleAuth\n",
        "from pydrive.drive import GoogleDrive\n",
        "from google.colab import auth\n",
        "from oauth2client.client import GoogleCredentials\n",
        "\n",
        "# Authenticate and create the PyDrive client\n",
        "auth.authenticate_user()\n",
        "gauth = GoogleAuth()\n",
        "gauth.credentials = GoogleCredentials.get_application_default()\n",
        "drive = GoogleDrive(gauth)"
      ],
      "execution_count": 2,
      "outputs": []
    },
    {
      "cell_type": "markdown",
      "metadata": {
        "id": "Kq4vCnP5B5NX"
      },
      "source": [
        "Now download the file we will be processing in our Spark job."
      ]
    },
    {
      "cell_type": "code",
      "metadata": {
        "id": "UF5nuSdyTJpc",
        "colab": {
          "base_uri": "https://localhost:8080/"
        },
        "outputId": "98a72167-19fe-4b6a-9c4d-01a54622bba8"
      },
      "source": [
        "id='11xoXxyX1rFB-EabHt1cqRkf5nULcs25t'\n",
        "downloaded = drive.CreateFile({'id': id}) \n",
        "downloaded.GetContentFile('game-clicks.csv.gz') \n",
        "\n",
        "id='1ji6ulH3Q56wGIdCSBgglUQn4-irJXVYX'\n",
        "downloaded = drive.CreateFile({'id': id}) \n",
        "downloaded.GetContentFile('ad-clicks.csv.gz')\n",
        "print(type(downloaded)) \n"
      ],
      "execution_count": 3,
      "outputs": [
        {
          "output_type": "stream",
          "text": [
            "<class 'pydrive.files.GoogleDriveFile'>\n"
          ],
          "name": "stdout"
        }
      ]
    },
    {
      "cell_type": "markdown",
      "metadata": {
        "id": "wA49WWqmO5rR"
      },
      "source": [
        "If you executed the cells above, you should be able to see the files under the \"Files/content\" folder on the left panel."
      ]
    },
    {
      "cell_type": "markdown",
      "metadata": {
        "id": "Xb7Hv_vQLPGw"
      },
      "source": [
        "Import libraries."
      ]
    },
    {
      "cell_type": "code",
      "metadata": {
        "id": "xgQaRx6rSaf9"
      },
      "source": [
        "import pandas as pd\n",
        "import numpy as np\n",
        "import matplotlib.pyplot as plt\n",
        "%matplotlib inline\n",
        "\n",
        "import pyspark\n",
        "from pyspark.sql import *\n",
        "from pyspark.sql.functions import *\n",
        "from pyspark import SparkContext, SparkConf"
      ],
      "execution_count": 4,
      "outputs": []
    },
    {
      "cell_type": "markdown",
      "metadata": {
        "id": "uUD5XpD_SagA"
      },
      "source": [
        "Initialize the Spark context.\n"
      ]
    },
    {
      "cell_type": "code",
      "metadata": {
        "id": "7ft3VivrSagB"
      },
      "source": [
        "# create the session\n",
        "conf = SparkConf().set(\"spark.ui.port\", \"4050\")\n",
        "\n",
        "# create the context\n",
        "sc = pyspark.SparkContext(conf=conf)\n",
        "spark = SparkSession.builder.getOrCreate()"
      ],
      "execution_count": 5,
      "outputs": []
    },
    {
      "cell_type": "markdown",
      "metadata": {
        "id": "gewv-lKMSagI"
      },
      "source": [
        "## **Load `game-clicks` and `ad-clicks` datasets**\n",
        "\n"
      ]
    },
    {
      "cell_type": "markdown",
      "metadata": {
        "id": "VSWoULeWSagJ"
      },
      "source": [
        "Load the datasets:"
      ]
    },
    {
      "cell_type": "code",
      "metadata": {
        "id": "XLyVPuLXSagK"
      },
      "source": [
        "gameclicks = spark.read.csv(\"game-clicks.csv.gz\", header='true')\n",
        "adclicks = spark.read.csv(\"ad-clicks.csv.gz\", header='true')"
      ],
      "execution_count": 6,
      "outputs": []
    },
    {
      "cell_type": "markdown",
      "metadata": {
        "id": "MP2JmCeoSagM"
      },
      "source": [
        "Check the schemas:"
      ]
    },
    {
      "cell_type": "code",
      "metadata": {
        "colab": {
          "base_uri": "https://localhost:8080/"
        },
        "id": "KpUT8viNSagM",
        "outputId": "cf9ec4dd-3f5d-4518-dd59-b22b7a9a7e3b"
      },
      "source": [
        "gameclicks.printSchema()"
      ],
      "execution_count": 7,
      "outputs": [
        {
          "output_type": "stream",
          "text": [
            "root\n",
            " |-- timestamp: string (nullable = true)\n",
            " |-- clickId: string (nullable = true)\n",
            " |-- userId: string (nullable = true)\n",
            " |-- userSessionId: string (nullable = true)\n",
            " |-- isHit: string (nullable = true)\n",
            " |-- teamId: string (nullable = true)\n",
            " |-- teamLevel: string (nullable = true)\n",
            "\n"
          ],
          "name": "stdout"
        }
      ]
    },
    {
      "cell_type": "code",
      "metadata": {
        "colab": {
          "base_uri": "https://localhost:8080/"
        },
        "id": "MoZR24RIXTuf",
        "outputId": "b2eb77a9-8204-4c60-96c3-f586984931cc"
      },
      "source": [
        "adclicks.printSchema()"
      ],
      "execution_count": 8,
      "outputs": [
        {
          "output_type": "stream",
          "text": [
            "root\n",
            " |-- timestamp: string (nullable = true)\n",
            " |-- txId: string (nullable = true)\n",
            " |-- userSessionId: string (nullable = true)\n",
            " |-- teamId: string (nullable = true)\n",
            " |-- userId: string (nullable = true)\n",
            " |-- adId: string (nullable = true)\n",
            " |-- adCategory: string (nullable = true)\n",
            "\n"
          ],
          "name": "stdout"
        }
      ]
    },
    {
      "cell_type": "markdown",
      "metadata": {
        "id": "iu7n8KKjSagS"
      },
      "source": [
        "Get a formatted sample with `show()`:"
      ]
    },
    {
      "cell_type": "code",
      "metadata": {
        "id": "nwYZrwanSagT",
        "colab": {
          "base_uri": "https://localhost:8080/"
        },
        "outputId": "f7419589-79e4-4a3b-ef25-1e2ef759dfb4"
      },
      "source": [
        "gameclicks.show(10)"
      ],
      "execution_count": 9,
      "outputs": [
        {
          "output_type": "stream",
          "text": [
            "+-------------------+-------+------+-------------+-----+------+---------+\n",
            "|          timestamp|clickId|userId|userSessionId|isHit|teamId|teamLevel|\n",
            "+-------------------+-------+------+-------------+-----+------+---------+\n",
            "|2016-05-26 15:06:55|    105|  1038|         5916|    0|    25|        1|\n",
            "|2016-05-26 15:07:09|    154|  1099|         5898|    0|    44|        1|\n",
            "|2016-05-26 15:07:14|    229|   899|         5757|    0|    71|        1|\n",
            "|2016-05-26 15:07:14|    322|  2197|         5854|    0|    99|        1|\n",
            "|2016-05-26 15:07:20|     22|  1362|         5739|    0|    13|        1|\n",
            "|2016-05-26 15:07:27|    107|  1071|         5939|    0|    27|        1|\n",
            "|2016-05-26 15:07:30|    289|  2359|         5764|    0|    85|        1|\n",
            "|2016-05-26 15:07:30|    301|  1243|         5900|    0|    86|        1|\n",
            "|2016-05-26 15:07:47|    274|  1628|         5896|    0|    82|        1|\n",
            "|2016-05-26 15:07:48|     66|   453|         5662|    0|    20|        1|\n",
            "+-------------------+-------+------+-------------+-----+------+---------+\n",
            "only showing top 10 rows\n",
            "\n"
          ],
          "name": "stdout"
        }
      ]
    },
    {
      "cell_type": "markdown",
      "metadata": {
        "id": "CaWkvdItzWeW"
      },
      "source": [
        "Find the number of records:"
      ]
    },
    {
      "cell_type": "code",
      "metadata": {
        "colab": {
          "base_uri": "https://localhost:8080/"
        },
        "id": "hMAab2rJSagU",
        "outputId": "b278133c-a579-454a-a787-84304cd3c93c"
      },
      "source": [
        "print(\"In total there are {0} game clicks\".format(gameclicks.count()))\n",
        "\n",
        "print(\"In total there are {0} ad clicks\".format(adclicks.count()))\n"
      ],
      "execution_count": 10,
      "outputs": [
        {
          "output_type": "stream",
          "text": [
            "In total there are 755806 game clicks\n",
            "In total there are 16323 ad clicks\n"
          ],
          "name": "stdout"
        }
      ]
    },
    {
      "cell_type": "markdown",
      "metadata": {
        "id": "hkKWEEcLSagW"
      },
      "source": [
        "## **Question 1: How many users in each team?**\n",
        "Keywords: `Dataframe API`, `SQL`, `group by`, `sort`"
      ]
    },
    {
      "cell_type": "markdown",
      "metadata": {
        "id": "MwPL1-P5SagW"
      },
      "source": [
        "Use [DataFrame API](https://spark.apache.org/docs/latest/api/python/pyspark.sql.html#pyspark.sql.DataFrame) to group the users by `teamID` and count how many distinct users in each team. Sort the result in descending order."
      ]
    },
    {
      "cell_type": "code",
      "metadata": {
        "colab": {
          "base_uri": "https://localhost:8080/"
        },
        "id": "BWcMVcgwSagX",
        "scrolled": true,
        "outputId": "a74fae43-2d7d-43be-d347-70ea20361862"
      },
      "source": [
        "#team_counts = # your code goes here (Q1a: 4 points)\n",
        "team_counts = gameclicks.groupBy('teamId').agg(countDistinct('userId'))\n",
        "\n",
        "team_counts.show()"
      ],
      "execution_count": 11,
      "outputs": [
        {
          "output_type": "stream",
          "text": [
            "+------+-------------+\n",
            "|teamId|count(userId)|\n",
            "+------+-------------+\n",
            "|   125|            5|\n",
            "|   124|            9|\n",
            "|    51|           18|\n",
            "|    54|           18|\n",
            "|   155|            5|\n",
            "|   154|            4|\n",
            "|   132|            9|\n",
            "|    11|           16|\n",
            "|   138|            6|\n",
            "|    69|           11|\n",
            "|   112|            7|\n",
            "|    64|           25|\n",
            "|   113|            7|\n",
            "|   133|           11|\n",
            "|    59|           16|\n",
            "|   162|            6|\n",
            "|   146|            5|\n",
            "|     8|           16|\n",
            "|   160|            5|\n",
            "|    22|           33|\n",
            "+------+-------------+\n",
            "only showing top 20 rows\n",
            "\n"
          ],
          "name": "stdout"
        }
      ]
    },
    {
      "cell_type": "markdown",
      "metadata": {
        "id": "t5trEAkzSagY"
      },
      "source": [
        "# Now rewrite the above question using pure SQL:"
      ]
    },
    {
      "cell_type": "code",
      "metadata": {
        "colab": {
          "base_uri": "https://localhost:8080/"
        },
        "id": "3slo-sXOSagZ",
        "outputId": "ed8b8195-dee1-4311-9910-deace14dfaa2"
      },
      "source": [
        "gameclicks.registerTempTable(\"gameclicks\")\n",
        "\n",
        "#query = # your code goes here (Q1b: 2 points)\n",
        "query = \"Select teamId, count(distinct userId) as numUsers from gameclicks group by teamId\"\n",
        "\n",
        "team_counts = spark.sql(query)\n",
        "team_counts.show()\n",
        "\n",
        "# how many unique teams are there\n",
        "#num_teams = spark.sql(\"select count(distinct teamId) from gameclicks\")\n",
        "#num_teams.show()"
      ],
      "execution_count": 12,
      "outputs": [
        {
          "output_type": "stream",
          "text": [
            "+------+--------+\n",
            "|teamId|numUsers|\n",
            "+------+--------+\n",
            "|   125|       5|\n",
            "|   124|       9|\n",
            "|    51|      18|\n",
            "|    54|      18|\n",
            "|   155|       5|\n",
            "|   154|       4|\n",
            "|   132|       9|\n",
            "|    11|      16|\n",
            "|   138|       6|\n",
            "|    69|      11|\n",
            "|   112|       7|\n",
            "|    64|      25|\n",
            "|   113|       7|\n",
            "|   133|      11|\n",
            "|    59|      16|\n",
            "|   162|       6|\n",
            "|   146|       5|\n",
            "|     8|      16|\n",
            "|   160|       5|\n",
            "|    22|      33|\n",
            "+------+--------+\n",
            "only showing top 20 rows\n",
            "\n"
          ],
          "name": "stdout"
        }
      ]
    },
    {
      "cell_type": "markdown",
      "metadata": {
        "id": "5wQNXQnOSaga"
      },
      "source": [
        "##The `team_counts` Dataframe is small enough to be moved to Pandas:"
      ]
    },
    {
      "cell_type": "code",
      "metadata": {
        "colab": {
          "base_uri": "https://localhost:8080/",
          "height": 204
        },
        "id": "4nVJdPLDSagb",
        "outputId": "a176c508-5379-4067-f477-5c3be87ade72"
      },
      "source": [
        "team_counts_pd = team_counts.toPandas()\n",
        "team_counts_pd.head()"
      ],
      "execution_count": 13,
      "outputs": [
        {
          "output_type": "execute_result",
          "data": {
            "text/html": [
              "<div>\n",
              "<style scoped>\n",
              "    .dataframe tbody tr th:only-of-type {\n",
              "        vertical-align: middle;\n",
              "    }\n",
              "\n",
              "    .dataframe tbody tr th {\n",
              "        vertical-align: top;\n",
              "    }\n",
              "\n",
              "    .dataframe thead th {\n",
              "        text-align: right;\n",
              "    }\n",
              "</style>\n",
              "<table border=\"1\" class=\"dataframe\">\n",
              "  <thead>\n",
              "    <tr style=\"text-align: right;\">\n",
              "      <th></th>\n",
              "      <th>teamId</th>\n",
              "      <th>numUsers</th>\n",
              "    </tr>\n",
              "  </thead>\n",
              "  <tbody>\n",
              "    <tr>\n",
              "      <th>0</th>\n",
              "      <td>125</td>\n",
              "      <td>5</td>\n",
              "    </tr>\n",
              "    <tr>\n",
              "      <th>1</th>\n",
              "      <td>124</td>\n",
              "      <td>9</td>\n",
              "    </tr>\n",
              "    <tr>\n",
              "      <th>2</th>\n",
              "      <td>51</td>\n",
              "      <td>18</td>\n",
              "    </tr>\n",
              "    <tr>\n",
              "      <th>3</th>\n",
              "      <td>54</td>\n",
              "      <td>18</td>\n",
              "    </tr>\n",
              "    <tr>\n",
              "      <th>4</th>\n",
              "      <td>155</td>\n",
              "      <td>5</td>\n",
              "    </tr>\n",
              "  </tbody>\n",
              "</table>\n",
              "</div>"
            ],
            "text/plain": [
              "  teamId  numUsers\n",
              "0    125         5\n",
              "1    124         9\n",
              "2     51        18\n",
              "3     54        18\n",
              "4    155         5"
            ]
          },
          "metadata": {
            "tags": []
          },
          "execution_count": 13
        }
      ]
    },
    {
      "cell_type": "markdown",
      "metadata": {
        "id": "VQedtuQZSagc"
      },
      "source": [
        "##Plot a histogram using the number of users by team:"
      ]
    },
    {
      "cell_type": "code",
      "metadata": {
        "colab": {
          "base_uri": "https://localhost:8080/",
          "height": 265
        },
        "id": "tgbceprDSagd",
        "outputId": "12f08448-1a33-4160-c409-b123aa657d10"
      },
      "source": [
        "x = team_counts_pd['numUsers']\n",
        "plt.hist(x)\n",
        "plt.show()"
      ],
      "execution_count": 14,
      "outputs": [
        {
          "output_type": "display_data",
          "data": {
            "image/png": "[encoded data removed]",
            "text/plain": [
              "<Figure size 432x288 with 1 Axes>"
            ]
          },
          "metadata": {
            "tags": [],
            "needs_background": "light"
          }
        }
      ]
    },
    {
      "cell_type": "markdown",
      "metadata": {
        "id": "1jCZfwK2Sage"
      },
      "source": [
        "----"
      ]
    },
    {
      "cell_type": "markdown",
      "metadata": {
        "id": "LLan66cXSagf"
      },
      "source": [
        "## **Questions 2: Now use the `ad-clicks` dataset to find the number of ad clicks in each hour.**\n",
        "\n",
        "Keywords: `group by`, `parse timestamp`, `plot`"
      ]
    },
    {
      "cell_type": "code",
      "metadata": {
        "colab": {
          "base_uri": "https://localhost:8080/"
        },
        "id": "BXNKt5PHSagf",
        "outputId": "71690fd9-4c2b-4e04-a8d2-12af21ab69e4"
      },
      "source": [
        "timestamp_only = adclicks.selectExpr([\"to_timestamp(timestamp) as timestamp\"])\n",
        "\n",
        "#click_count_by_hour = # your code goes here (Q2a: 4 points)\n",
        "click_count_by_hour = timestamp_only.groupBy(hour('timestamp')).agg(count('timestamp')).orderBy(hour('timestamp'))\n",
        "\n",
        "click_count_by_hour.show(100)"
      ],
      "execution_count": 15,
      "outputs": [
        {
          "output_type": "stream",
          "text": [
            "+---------------+----------------+\n",
            "|hour(timestamp)|count(timestamp)|\n",
            "+---------------+----------------+\n",
            "|              0|             605|\n",
            "|              1|             728|\n",
            "|              2|             633|\n",
            "|              3|             552|\n",
            "|              4|             614|\n",
            "|              5|             691|\n",
            "|              6|             710|\n",
            "|              7|             704|\n",
            "|              8|             726|\n",
            "|              9|             799|\n",
            "|             10|             705|\n",
            "|             11|             648|\n",
            "|             12|             714|\n",
            "|             13|             647|\n",
            "|             14|             623|\n",
            "|             15|             695|\n",
            "|             16|             707|\n",
            "|             17|             662|\n",
            "|             18|             686|\n",
            "|             19|             603|\n",
            "|             20|             675|\n",
            "|             21|             756|\n",
            "|             22|             696|\n",
            "|             23|             744|\n",
            "+---------------+----------------+\n",
            "\n"
          ],
          "name": "stdout"
        }
      ]
    },
    {
      "cell_type": "markdown",
      "metadata": {
        "id": "IAhOE55wSagj"
      },
      "source": [
        "# Use line plot to show the number of clicks by hour:"
      ]
    },
    {
      "cell_type": "code",
      "metadata": {
        "colab": {
          "base_uri": "https://localhost:8080/",
          "height": 296
        },
        "id": "wLq6ulAySagl",
        "outputId": "0ffe448b-3018-4d03-d898-0c0424f1d2e4"
      },
      "source": [
        "# your code goes here (Q2b: 4 points)\n",
        "click_by_hour_pd = click_count_by_hour.toPandas()\n",
        "\n",
        "num_clicks = click_by_hour_pd['count(timestamp)']\n",
        "the_hour = click_by_hour_pd['hour(timestamp)']\n",
        "\n",
        "plt.xlabel(xlabel='Hour')\n",
        "plt.ylabel(ylabel='Number of Clicks')\n",
        "\n",
        "plt.plot(the_hour,num_clicks)\n",
        "\n"
      ],
      "execution_count": 16,
      "outputs": [
        {
          "output_type": "execute_result",
          "data": {
            "text/plain": [
              "[<matplotlib.lines.Line2D at 0x7f4413e15470>]"
            ]
          },
          "metadata": {
            "tags": []
          },
          "execution_count": 16
        },
        {
          "output_type": "display_data",
          "data": {
            "image/png": "[encoded data removed]",
            "text/plain": [
              "<Figure size 432x288 with 1 Axes>"
            ]
          },
          "metadata": {
            "tags": [],
            "needs_background": "light"
          }
        }
      ]
    },
    {
      "cell_type": "markdown",
      "metadata": {
        "id": "uEwBspLySagp"
      },
      "source": [
        "## Question 3: Use `map` and `reduce` with RDD\n",
        "\n",
        "Keywords: `RDD map reduce`"
      ]
    },
    {
      "cell_type": "markdown",
      "metadata": {
        "id": "HmGQaFp21sux"
      },
      "source": [
        "Now we want to find the number of clicks of each `adCategorory` using `map` and `reduce` with RDD. Since we only care the `adCategory`, let's select this column only."
      ]
    },
    {
      "cell_type": "code",
      "metadata": {
        "colab": {
          "base_uri": "https://localhost:8080/"
        },
        "id": "a-T5uROOtYq9",
        "outputId": "ab0f7d1f-5371-405d-ac46-32b67c1b5cc8"
      },
      "source": [
        "categoryOnly = adclicks.select(\"adCategory\")\n",
        "categoryOnly.show(10)\n"
      ],
      "execution_count": 17,
      "outputs": [
        {
          "output_type": "stream",
          "text": [
            "+-----------+\n",
            "| adCategory|\n",
            "+-----------+\n",
            "|electronics|\n",
            "|     movies|\n",
            "|  computers|\n",
            "|    fashion|\n",
            "|   clothing|\n",
            "|      games|\n",
            "|     movies|\n",
            "|electronics|\n",
            "|electronics|\n",
            "|  computers|\n",
            "+-----------+\n",
            "only showing top 10 rows\n",
            "\n"
          ],
          "name": "stdout"
        }
      ]
    },
    {
      "cell_type": "markdown",
      "metadata": {
        "id": "2PHZStWQSag9"
      },
      "source": [
        "Now use explicit Map/Reduce format with RDDs.\n",
        "\n",
        "First we emit a pair in the format (`adCategory`, 1) by using a `map()` function:"
      ]
    },
    {
      "cell_type": "code",
      "metadata": {
        "id": "OgEeKdtYSag9",
        "colab": {
          "base_uri": "https://localhost:8080/"
        },
        "outputId": "60bd8dbf-141f-4494-f251-ef381b8d800f"
      },
      "source": [
        "type(categoryOnly)\n",
        "\n",
        "# first convert it into a RDD object to use the map() \n",
        "\n",
        "all_categories = (adclicks.rdd).map(lambda x: (x['adCategory'],1))\n",
        "\n",
        "# this map function returns a tuple of(categoryName,1) that is a single instance\n",
        "all_categories.take(10)"
      ],
      "execution_count": 43,
      "outputs": [
        {
          "output_type": "execute_result",
          "data": {
            "text/plain": [
              "[('electronics', 1),\n",
              " ('movies', 1),\n",
              " ('computers', 1),\n",
              " ('fashion', 1),\n",
              " ('clothing', 1),\n",
              " ('games', 1),\n",
              " ('movies', 1),\n",
              " ('electronics', 1),\n",
              " ('electronics', 1),\n",
              " ('computers', 1)]"
            ]
          },
          "metadata": {
            "tags": []
          },
          "execution_count": 43
        }
      ]
    },
    {
      "cell_type": "markdown",
      "metadata": {
        "id": "iMkH4w-18fIu"
      },
      "source": [
        "Then, we sum counts by using a `reduce()` function, and then we sort by count:"
      ]
    },
    {
      "cell_type": "code",
      "metadata": {
        "id": "_hVvIF_WSag_",
        "colab": {
          "base_uri": "https://localhost:8080/"
        },
        "outputId": "9891e1eb-3655-4661-cbda-f0ab509d38ba"
      },
      "source": [
        "category_counts_rdd = all_categories.reduceByKey(lambda x,y:x +y)\n",
        "\n",
        "\n",
        "counts =category_counts_rdd.take(10)\n",
        "\n",
        "# I don't know how to sort it as a rdd. I can sort it as a list afterwards\n",
        "counts.sort(key=lambda x:x[1], reverse=True)\n",
        "print(counts)"
      ],
      "execution_count": 71,
      "outputs": [
        {
          "output_type": "stream",
          "text": [
            "[('computers', 2638), ('games', 2601), ('clothing', 2340), ('sports', 2074), ('fashion', 1727), ('movies', 1692), ('hardware', 1588), ('electronics', 1097), ('automotive', 566)]\n"
          ],
          "name": "stdout"
        }
      ]
    },
    {
      "cell_type": "markdown",
      "metadata": {
        "id": "od5h9c6qSahB"
      },
      "source": [
        "Now we want to convert the `category_counts_rdd` to a dataframe `category_counts` by mappying the corresponding columns."
      ]
    },
    {
      "cell_type": "code",
      "metadata": {
        "id": "KNDn84R_SahB",
        "colab": {
          "base_uri": "https://localhost:8080/"
        },
        "outputId": "a70dd58b-2435-4ab8-e5bd-e8ad5f20e258"
      },
      "source": [
        "category_counts = category_counts_rdd.toDF()\n",
        "\n",
        "# I ordered them here\n",
        "category_counts.orderBy('_2').show()"
      ],
      "execution_count": 72,
      "outputs": [
        {
          "output_type": "stream",
          "text": [
            "+-----------+----+\n",
            "|         _1|  _2|\n",
            "+-----------+----+\n",
            "| automotive| 566|\n",
            "|electronics|1097|\n",
            "|   hardware|1588|\n",
            "|     movies|1692|\n",
            "|    fashion|1727|\n",
            "|     sports|2074|\n",
            "|   clothing|2340|\n",
            "|      games|2601|\n",
            "|  computers|2638|\n",
            "+-----------+----+\n",
            "\n"
          ],
          "name": "stdout"
        }
      ]
    },
    {
      "cell_type": "markdown",
      "metadata": {
        "id": "LuhTAGKXylHE"
      },
      "source": [
        "Now use SparkSQL to verify the above result:"
      ]
    },
    {
      "cell_type": "code",
      "metadata": {
        "id": "9nFc6vixyeCT",
        "colab": {
          "base_uri": "https://localhost:8080/"
        },
        "outputId": "f5d71512-bc63-4fb3-e4a6-6975ef32727b"
      },
      "source": [
        "\n",
        "adclicks.registerTempTable(\"adclicks\")\n",
        "\n",
        "query = 'SELECT adCategory, count(*) as number_of_clicks FROM adclicks group by adCategory order by count(*)'\n",
        "category_counts = spark.sql(query)\n",
        "category_counts.show()\n"
      ],
      "execution_count": 76,
      "outputs": [
        {
          "output_type": "stream",
          "text": [
            "+-----------+----------------+\n",
            "| adCategory|number_of_clicks|\n",
            "+-----------+----------------+\n",
            "| automotive|             566|\n",
            "|electronics|            1097|\n",
            "|   hardware|            1588|\n",
            "|     movies|            1692|\n",
            "|    fashion|            1727|\n",
            "|     sports|            2074|\n",
            "|   clothing|            2340|\n",
            "|      games|            2601|\n",
            "|  computers|            2638|\n",
            "+-----------+----------------+\n",
            "\n"
          ],
          "name": "stdout"
        }
      ]
    },
    {
      "cell_type": "markdown",
      "metadata": {
        "id": "xYzcpVwR3SyZ"
      },
      "source": [
        "#Congratulations on the first Spark assignment!"
      ]
    }
  ]
}