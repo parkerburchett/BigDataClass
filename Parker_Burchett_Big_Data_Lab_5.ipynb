{
  "nbformat": 4,
  "nbformat_minor": 0,
  "metadata": {
    "colab": {
      "name": "Parker Burchett Big Data Lab 5.ipynb",
      "provenance": [],
      "collapsed_sections": [],
      "toc_visible": true,
      "machine_shape": "hm"
    },
    "kernelspec": {
      "display_name": "Python 3",
      "language": "python",
      "name": "python3"
    },
    "language_info": {
      "codemirror_mode": {
        "name": "ipython",
        "version": 3
      },
      "file_extension": ".py",
      "mimetype": "text/x-python",
      "name": "python",
      "nbconvert_exporter": "python",
      "pygments_lexer": "ipython3",
      "version": "3.6.7"
    }
  },
  "cells": [
    {
      "cell_type": "markdown",
      "metadata": {
        "id": "GTwDFnjHMk25"
      },
      "source": [
        "#Colab 5: Learn to use Spark's GraphFrames"
      ]
    },
    {
      "cell_type": "markdown",
      "metadata": {
        "id": "eXQzA01OS_yQ"
      },
      "source": [
        "## Setup"
      ]
    },
    {
      "cell_type": "markdown",
      "metadata": {
        "id": "AbYZoVVWOZA5"
      },
      "source": [
        "Let's setup Spark on your Colab environment.  Run the cell below!"
      ]
    },
    {
      "cell_type": "code",
      "metadata": {
        "id": "dhzk3GE6S9RC",
        "colab": {
          "base_uri": "https://localhost:8080/"
        },
        "outputId": "8c038e31-d5d7-4532-e33f-7fb2f0bfceff"
      },
      "source": [
        "!pip install pyspark\n",
        "!pip install -U -q PyDrive\n",
        "!apt install openjdk-8-jdk-headless -qq\n",
        "import os\n",
        "os.environ[\"JAVA_HOME\"] = \"/usr/lib/jvm/java-8-openjdk-amd64\"\n",
        "!pip install graphframes\n",
        "\n",
        "!curl -L -o \"/usr/local/lib/python3.7/dist-packages/pyspark/jars/graphframes-0.8.1-spark3.0-s_2.12.jar\" http://dl.bintray.com/spark-packages/maven/graphframes/graphframes/0.8.1-spark3.0-s_2.12/graphframes-0.8.1-spark3.0-s_2.12.jar"
      ],
      "execution_count": null,
      "outputs": [
        {
          "output_type": "stream",
          "text": [
            "Requirement already satisfied: pyspark in /usr/local/lib/python3.7/dist-packages (3.1.1)\n",
            "Requirement already satisfied: py4j==0.10.9 in /usr/local/lib/python3.7/dist-packages (from pyspark) (0.10.9)\n",
            "openjdk-8-jdk-headless is already the newest version (8u282-b08-0ubuntu1~18.04).\n",
            "0 upgraded, 0 newly installed, 0 to remove and 29 not upgraded.\n",
            "Requirement already satisfied: graphframes in /usr/local/lib/python3.7/dist-packages (0.6)\n",
            "Requirement already satisfied: nose in /usr/local/lib/python3.7/dist-packages (from graphframes) (1.3.7)\n",
            "Requirement already satisfied: numpy in /usr/local/lib/python3.7/dist-packages (from graphframes) (1.19.5)\n",
            "  % Total    % Received % Xferd  Average Speed   Time    Time     Time  Current\n",
            "                                 Dload  Upload   Total   Spent    Left  Speed\n",
            "  0     0    0     0    0     0      0      0 --:--:-- --:--:-- --:--:--     0\n",
            "100  242k  100  242k    0     0   596k      0 --:--:-- --:--:-- --:--:--  596k\n"
          ],
          "name": "stdout"
        }
      ]
    },
    {
      "cell_type": "markdown",
      "metadata": {
        "id": "ctU1dYjfOif7"
      },
      "source": [
        "Now we authenticate a Google Drive client to download files. Please follow the instruction to enter the authoriztion code.\n"
      ]
    },
    {
      "cell_type": "code",
      "metadata": {
        "id": "1dfnX7IAOkvH"
      },
      "source": [
        "from pydrive.auth import GoogleAuth\n",
        "from pydrive.drive import GoogleDrive\n",
        "from google.colab import auth\n",
        "from oauth2client.client import GoogleCredentials\n",
        "\n",
        "# Authenticate and create the PyDrive client\n",
        "auth.authenticate_user()\n",
        "gauth = GoogleAuth()\n",
        "gauth.credentials = GoogleCredentials.get_application_default()\n",
        "drive = GoogleDrive(gauth)"
      ],
      "execution_count": null,
      "outputs": []
    },
    {
      "cell_type": "markdown",
      "metadata": {
        "id": "Kq4vCnP5B5NX"
      },
      "source": [
        "Now download the file we will be processing in our Spark job."
      ]
    },
    {
      "cell_type": "code",
      "metadata": {
        "id": "UF5nuSdyTJpc"
      },
      "source": [
        "id='1MnfrYQJtV1p0Iv2xl5qV8QoJY7y_Ozj5'\n",
        "downloaded = drive.CreateFile({'id': id}) \n",
        "downloaded.GetContentFile('metro.csv') \n",
        "\n",
        "id='19UgCueFvH4agly8ks0TPzIxIhOWDmh4m'\n",
        "downloaded = drive.CreateFile({'id': id}) \n",
        "downloaded.GetContentFile('country.csv') \n",
        "\n",
        "id='1pBOY2eVrFFI2FXQY4ctajYVr1ubfFWoZ'\n",
        "downloaded = drive.CreateFile({'id': id}) \n",
        "downloaded.GetContentFile('continent.csv') \n",
        "\n",
        "id='1OkJa_O3G6KgcMq8uCuy9hvoTidjkMCLx'\n",
        "downloaded = drive.CreateFile({'id': id}) \n",
        "downloaded.GetContentFile('metro_country.csv') \n",
        "\n",
        "id='1MCrV5XNjlr4X9TJXZV_6RkqGZ9yFZY7w'\n",
        "downloaded = drive.CreateFile({'id': id}) \n",
        "downloaded.GetContentFile('country_continent.csv') "
      ],
      "execution_count": null,
      "outputs": []
    },
    {
      "cell_type": "markdown",
      "metadata": {
        "id": "Xb7Hv_vQLPGw"
      },
      "source": [
        "Import libraries."
      ]
    },
    {
      "cell_type": "code",
      "metadata": {
        "id": "xgQaRx6rSaf9"
      },
      "source": [
        "# import pandas as pd\n",
        "# import numpy as np\n",
        "import matplotlib.pyplot as plt\n",
        "%matplotlib inline\n",
        "\n",
        "import pyspark\n",
        "from pyspark.sql import *\n",
        "from pyspark.sql.functions import *\n",
        "from pyspark import SparkContext, SparkConf\n",
        "\n",
        "from graphframes import *\n"
      ],
      "execution_count": null,
      "outputs": []
    },
    {
      "cell_type": "markdown",
      "metadata": {
        "id": "uUD5XpD_SagA"
      },
      "source": [
        "Initialize the Spark context.\n"
      ]
    },
    {
      "cell_type": "code",
      "metadata": {
        "id": "7ft3VivrSagB"
      },
      "source": [
        "# create the session\n",
        "conf = SparkConf().set(\"spark.ui.port\", \"4050\")\n",
        "\n",
        "# create the context\n",
        "sc.stop()\n",
        "sc = pyspark.SparkContext(conf=conf)\n",
        "spark = SparkSession.builder.getOrCreate()\n"
      ],
      "execution_count": null,
      "outputs": []
    },
    {
      "cell_type": "markdown",
      "metadata": {
        "id": "VSWoULeWSagJ"
      },
      "source": [
        "##Load the data## \n",
        "The contents in these five input files are pretty straightforward. `metro.csv` has all the cities intormation. `country.csv` has all the countries informaiton. `continent.csv` has all the continents information. `metro_country.csv` builds connection between cities and countier. `country_continent.csv` builds connection between countries and continents."
      ]
    },
    {
      "cell_type": "code",
      "metadata": {
        "id": "XLyVPuLXSagK"
      },
      "source": [
        "metro = spark.read.csv(\"metro.csv\", header='true').withColumnRenamed(\"name\",\"metro_name\")\n",
        "country = spark.read.csv(\"country.csv\", header='true').withColumnRenamed(\"name\",\"country_name\")\n",
        "continent = spark.read.csv(\"continent.csv\", header='true').withColumnRenamed(\"name\",\"continent_name\")\n",
        "metro_country = spark.read.csv(\"metro_country.csv\", header='true')\n",
        "country_continent = spark.read.csv(\"country_continent.csv\", header='true')\n",
        "\n",
        "\n"
      ],
      "execution_count": null,
      "outputs": []
    },
    {
      "cell_type": "code",
      "metadata": {
        "colab": {
          "base_uri": "https://localhost:8080/"
        },
        "id": "qSQpkMYgonS6",
        "outputId": "eb99486b-7c6b-411a-b902-9979e89865f7"
      },
      "source": [
        "# look at the heads\r\n",
        "\r\n",
        "[print(row) for row in metro.head(3)]\r\n",
        "[print(row) for row in country.head(3)]\r\n",
        "[print(row) for row in continent.head(3)]\r\n",
        "[print(row) for row in metro_country.head(3)]\r\n",
        "[print(row) for row in country_continent.head(3)]\r\n"
      ],
      "execution_count": null,
      "outputs": [
        {
          "output_type": "stream",
          "text": [
            "Row(metro_id='1', metro_name='Tokyo', population='36923000')\n",
            "Row(metro_id='2', metro_name='Seoul', population='25620000')\n",
            "Row(metro_id='3', metro_name='Shanghai', population='24750000')\n",
            "Row(country_id='1', country_name='Japan')\n",
            "Row(country_id='2', country_name='South Korea')\n",
            "Row(country_id='3', country_name='China')\n",
            "Row(continent_id='1', continent_name='Asia')\n",
            "Row(continent_id='2', continent_name='Africa')\n",
            "Row(continent_id='3', continent_name='North America')\n",
            "Row(metro_id='1', country_id='1')\n",
            "Row(metro_id='2', country_id='2')\n",
            "Row(metro_id='3', country_id='3')\n",
            "Row(country_id='1', continent_id='1')\n",
            "Row(country_id='2', continent_id='1')\n",
            "Row(country_id='3', continent_id='1')\n"
          ],
          "name": "stdout"
        },
        {
          "output_type": "execute_result",
          "data": {
            "text/plain": [
              "[None, None, None]"
            ]
          },
          "metadata": {
            "tags": []
          },
          "execution_count": 35
        }
      ]
    },
    {
      "cell_type": "markdown",
      "metadata": {
        "id": "X0bOAD6ptK5Z"
      },
      "source": [
        "##Task 1##\n",
        "\n",
        "The goal of this assignment is to learn Spark's graphframes to build graphs and do some simple queires to the graphs. Here are some references you may use:\n",
        "\n",
        "*   https://docs.databricks.com/spark/latest/graph-analysis/graphframes/user-guide-python.html\n",
        "*   https://towardsdatascience.com/graphframes-in-jupyter-a-practical-guide-9b3b346cebc5\n",
        "*   https://www.baeldung.com/spark-graph-graphframes\n",
        "\n",
        "The first task of this assignment to build a graph to show the relationship between countries and metro cities. You should use one graph to show all the countries and all the metro cities in each country."
      ]
    },
    {
      "cell_type": "markdown",
      "metadata": {
        "id": "zUR7SdrrRLQ2"
      },
      "source": [
        "## "
      ]
    },
    {
      "cell_type": "code",
      "metadata": {
        "id": "mgsvd0Qu0a2Y"
      },
      "source": [
        "import numpy as np\n",
        "\n",
        "\n",
        "mc_verts= \n",
        "\n",
        "\n",
        "\n",
        "# mc_edges = metro_country.join(country_continent, on='country_id') # these are the edges\n",
        "# mc_vertices = \n"
      ],
      "execution_count": null,
      "outputs": []
    },
    {
      "cell_type": "code",
      "metadata": {
        "id": "54tWU1AWOJK3"
      },
      "source": [
        "\r\n",
        "\r\n",
        "\r\n",
        "\r\n",
        "mc = GraphFrame(mc_vertices, mc_edges)"
      ],
      "execution_count": null,
      "outputs": []
    },
    {
      "cell_type": "markdown",
      "metadata": {
        "id": "TpBjHbrG0uRN"
      },
      "source": [
        "Let's verify the above grpah by checking the outdegrees of vertices. I defined my graph as a directed graph, i.e., a country node has outlinkes to cities. Since cities do not have any outgoinng links, when we check the outdegree, cities are not listed."
      ]
    },
    {
      "cell_type": "code",
      "metadata": {
        "id": "VPUdAjpVSp5L",
        "scrolled": true
      },
      "source": [
        "out_degrees=mc.outDegrees\n",
        "out_degrees.show(100)"
      ],
      "execution_count": null,
      "outputs": []
    },
    {
      "cell_type": "markdown",
      "metadata": {
        "id": "bvJS5GMMwl-w"
      },
      "source": [
        "Once you have succesfully created a graphframe, you can use `networkx` to display the graph. In the code below, I assumed `mc` is the graphframe you have created. In this graph, the vertices includes all the coutnries and all the metro cities, and there's an edge between a city and a country if the city is in that country. Overall the graph is a little messy, because there are too many vertices and it is hard to tell which country includes which cities."
      ]
    },
    {
      "cell_type": "code",
      "metadata": {
        "id": "vRQY78iwBlU8"
      },
      "source": [
        "import networkx as nx\n",
        "\n",
        "mc_gp = nx.from_pandas_edgelist(mc.edges.toPandas(),'src','dst')\n",
        "nx.draw(mc_gp, with_labels = True, node_size = 10, font_size = 10)"
      ],
      "execution_count": null,
      "outputs": []
    },
    {
      "cell_type": "markdown",
      "metadata": {
        "id": "Fku10EAhxGoF"
      },
      "source": [
        "To be more focus, let's retrive a subgraph from the above graph. In this subgraph we only want to find out the cities in the USA. This time the graph is easier to read because we don't have many vertices."
      ]
    },
    {
      "cell_type": "code",
      "metadata": {
        "id": "oxcEMcpxX4PT"
      },
      "source": [
        "# Your code goes here (5 points)\n"
      ],
      "execution_count": null,
      "outputs": []
    },
    {
      "cell_type": "markdown",
      "metadata": {
        "id": "nC6KQtYfxfyu"
      },
      "source": [
        "##Task 2##\n",
        "This task is similar to Task 1. The difference is we want to find the relatinship beteen countries and continents. Overall, you should use one graph to include all the continents and the countries should be connected to the continent they belongs to."
      ]
    },
    {
      "cell_type": "code",
      "metadata": {
        "id": "yIbOF_MmrZbY"
      },
      "source": [
        "# Your code goes here (5 points)\n",
        "# cc_vertices = \n",
        "# cc_edges = "
      ],
      "execution_count": null,
      "outputs": []
    },
    {
      "cell_type": "code",
      "metadata": {
        "id": "PnE4IDKqsy58"
      },
      "source": [
        "cc = GraphFrame(cc_vertices, cc_edges)"
      ],
      "execution_count": null,
      "outputs": []
    },
    {
      "cell_type": "markdown",
      "metadata": {
        "id": "u-e5aKFn2z1B"
      },
      "source": [
        "Let's display the graph.*italicized text*"
      ]
    },
    {
      "cell_type": "code",
      "metadata": {
        "id": "kwwn28yYCEJm"
      },
      "source": [
        "cc_gp = nx.from_pandas_edgelist(cc.edges.toPandas(),'src','dst')\n",
        "nx.draw(cc_gp, with_labels = True, node_size = 20, font_size = 10)"
      ],
      "execution_count": null,
      "outputs": []
    },
    {
      "cell_type": "markdown",
      "metadata": {
        "id": "SOzQEfrjx297"
      },
      "source": [
        "Again, let's only focus on Continent \"North America\" only to make the graph easy to read."
      ]
    },
    {
      "cell_type": "code",
      "metadata": {
        "id": "FhsoosbsuXE7"
      },
      "source": [
        "# Your codes goes here (5 points)\n",
        "\n"
      ],
      "execution_count": null,
      "outputs": []
    },
    {
      "cell_type": "markdown",
      "metadata": {
        "id": "-fych6N0yQGp"
      },
      "source": [
        "##Task 3##\n",
        "\n",
        "Put it all together. Now you should build a grpah which shows all the continents, all the countries and all the metro cities. Link them accordingly based on their geographical locations. This graph is even messier because it has too many vertices."
      ]
    },
    {
      "cell_type": "code",
      "metadata": {
        "id": "v-SKHWsq1axX"
      },
      "source": [
        "# Your code goes here (5 points)\n",
        "# mcc_vertices = \n",
        "# mcc_edges = \n",
        "# mcc = \n",
        "# display the graph"
      ],
      "execution_count": null,
      "outputs": []
    },
    {
      "cell_type": "markdown",
      "metadata": {
        "id": "TAAVVkOxyqwv"
      },
      "source": [
        "The graph you built above has several connected components (i.e., continents). Now let's use graphframe's `conectedComponents()` to find each individual component. "
      ]
    },
    {
      "cell_type": "code",
      "metadata": {
        "id": "RtxoaBhGtyfN"
      },
      "source": [
        "sc.setCheckpointDir(\"/tmp/graphframes-example-connected-components\")\n",
        "components = mcc.connectedComponents()"
      ],
      "execution_count": null,
      "outputs": []
    },
    {
      "cell_type": "code",
      "metadata": {
        "id": "jdcm7sW7uOUK"
      },
      "source": [
        "components.show(100)"
      ],
      "execution_count": null,
      "outputs": []
    },
    {
      "cell_type": "markdown",
      "metadata": {
        "id": "tmxe4tGR7V--"
      },
      "source": [
        "Once we know such informaiton, we only want to display one conneted component, which is Continent \"North America\", i.e., display all the contries in North America, and all the metro cities in these countries."
      ]
    },
    {
      "cell_type": "code",
      "metadata": {
        "id": "4bH1nHWJ3xdP"
      },
      "source": [
        "# Your code goes here (5 points)\n",
        "# northamerica_vertices = \n",
        "# northamerica_edges = "
      ],
      "execution_count": null,
      "outputs": []
    },
    {
      "cell_type": "code",
      "metadata": {
        "id": "zK6yKpAr5AY8"
      },
      "source": [
        "northamerica = GraphFrame(northamerica_vertices, northamerica_edges)"
      ],
      "execution_count": null,
      "outputs": []
    },
    {
      "cell_type": "code",
      "metadata": {
        "id": "16ZKd4-1yyae"
      },
      "source": [
        "northamerica_gp = nx.from_pandas_edgelist(northamerica.edges.toPandas(),'src','dst')\n",
        "nx.draw(northamerica_gp, with_labels = True, node_size = 40, font_size = 10, edge_color = \"red\")"
      ],
      "execution_count": null,
      "outputs": []
    }
  ]
}