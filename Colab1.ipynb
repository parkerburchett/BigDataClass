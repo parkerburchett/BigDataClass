{
 "cells": [
  {
   "cell_type": "markdown",
   "metadata": {
    "id": "GTwDFnjHMk25"
   },
   "source": [
    "#Colab 1: Learn to use Apache Spark with Python (30 points)\n",
    "\n",
    "In this lab you will learn how to use [Apache Spark](https://spark.apache.org) on a Colab enviroment."
   ]
  },
  {
   "cell_type": "markdown",
   "metadata": {
    "id": "eXQzA01OS_yQ"
   },
   "source": [
    "### **Setup**"
   ]
  },
  {
   "cell_type": "markdown",
   "metadata": {
    "id": "AbYZoVVWOZA5"
   },
   "source": [
    "Let's setup Spark on your Colab environment.  Run the cell below!"
   ]
  },
  {
   "cell_type": "code",
   "execution_count": null,
   "metadata": {
    "colab": {
     "base_uri": "https://localhost:8080/",
     "height": 86
    },
    "executionInfo": {
     "elapsed": 8424,
     "status": "ok",
     "timestamp": 1584336581076,
     "user": {
      "displayName": "Dan Li",
      "photoUrl": "",
      "userId": "08205607102698019405"
     },
     "user_tz": 420
    },
    "id": "dhzk3GE6S9RC",
    "outputId": "ef5dedb0-a85c-4dff-c259-e34f141c0855"
   },
   "outputs": [],
   "source": [
    "!pip install pyspark\n",
    "!pip install -U -q PyDrive\n",
    "!apt install openjdk-8-jdk-headless -qq\n",
    "import os\n",
    "os.environ[\"JAVA_HOME\"] = \"/usr/lib/jvm/java-8-openjdk-amd64\"\n",
    "\n",
    "\n",
    "print('fin')"
   ]
  },
  {
   "cell_type": "markdown",
   "metadata": {
    "id": "ctU1dYjfOif7"
   },
   "source": [
    "Now we authenticate a Google Drive client to download files. Please follow the instruction to enter the authoriztion code.\n"
   ]
  },
  {
   "cell_type": "code",
   "execution_count": null,
   "metadata": {
    "id": "1dfnX7IAOkvH"
   },
   "outputs": [],
   "source": [
    "from pydrive.auth import GoogleAuth\n",
    "from pydrive.drive import GoogleDrive\n",
    "from google.colab import auth\n",
    "from oauth2client.client import GoogleCredentials\n",
    "\n",
    "# Authenticate and create the PyDrive client\n",
    "auth.authenticate_user()\n",
    "gauth = GoogleAuth()\n",
    "gauth.credentials = GoogleCredentials.get_application_default()\n",
    "drive = GoogleDrive(gauth)"
   ]
  },
  {
   "cell_type": "markdown",
   "metadata": {
    "id": "Kq4vCnP5B5NX"
   },
   "source": [
    "Now download the file we will be processing in our Spark job."
   ]
  },
  {
   "cell_type": "code",
   "execution_count": null,
   "metadata": {
    "id": "UF5nuSdyTJpc"
   },
   "outputs": [],
   "source": [
    "id='11xoXxyX1rFB-EabHt1cqRkf5nULcs25t'\n",
    "downloaded = drive.CreateFile({'id': id}) \n",
    "downloaded.GetContentFile('game-clicks.csv.gz') \n",
    "\n",
    "id='1ji6ulH3Q56wGIdCSBgglUQn4-irJXVYX'\n",
    "downloaded = drive.CreateFile({'id': id}) \n",
    "downloaded.GetContentFile('ad-clicks.csv.gz') \n"
   ]
  },
  {
   "cell_type": "markdown",
   "metadata": {
    "id": "wA49WWqmO5rR"
   },
   "source": [
    "If you executed the cells above, you should be able to see the files under the \"Files/content\" folder on the left panel."
   ]
  },
  {
   "cell_type": "markdown",
   "metadata": {
    "id": "Xb7Hv_vQLPGw"
   },
   "source": [
    "Import libraries."
   ]
  },
  {
   "cell_type": "code",
   "execution_count": null,
   "metadata": {
    "id": "xgQaRx6rSaf9"
   },
   "outputs": [],
   "source": [
    "import pandas as pd\n",
    "import numpy as np\n",
    "import matplotlib.pyplot as plt\n",
    "%matplotlib inline\n",
    "\n",
    "import pyspark\n",
    "from pyspark.sql import *\n",
    "from pyspark.sql.functions import *\n",
    "from pyspark import SparkContext, SparkConf"
   ]
  },
  {
   "cell_type": "markdown",
   "metadata": {
    "id": "uUD5XpD_SagA"
   },
   "source": [
    "Initialize the Spark context.\n"
   ]
  },
  {
   "cell_type": "code",
   "execution_count": null,
   "metadata": {
    "id": "7ft3VivrSagB"
   },
   "outputs": [],
   "source": [
    "# create the session\n",
    "conf = SparkConf().set(\"spark.ui.port\", \"4050\")\n",
    "\n",
    "# create the context\n",
    "sc = pyspark.SparkContext(conf=conf)\n",
    "spark = SparkSession.builder.getOrCreate()"
   ]
  },
  {
   "cell_type": "markdown",
   "metadata": {
    "id": "gewv-lKMSagI"
   },
   "source": [
    "## **Load `game-clicks` and `ad-clicks` datasets**\n",
    "\n"
   ]
  },
  {
   "cell_type": "markdown",
   "metadata": {
    "id": "VSWoULeWSagJ"
   },
   "source": [
    "Load the datasets:"
   ]
  },
  {
   "cell_type": "code",
   "execution_count": null,
   "metadata": {
    "id": "XLyVPuLXSagK"
   },
   "outputs": [],
   "source": [
    "gameclicks = spark.read.csv(\"game-clicks.csv.gz\", header='true')\n",
    "adclicks = spark.read.csv(\"ad-clicks.csv.gz\", header='true')"
   ]
  },
  {
   "cell_type": "markdown",
   "metadata": {
    "id": "MP2JmCeoSagM"
   },
   "source": [
    "Check the schemas:"
   ]
  },
  {
   "cell_type": "code",
   "execution_count": null,
   "metadata": {
    "colab": {
     "base_uri": "https://localhost:8080/",
     "height": 173
    },
    "executionInfo": {
     "elapsed": 368,
     "status": "ok",
     "timestamp": 1584336772919,
     "user": {
      "displayName": "Dan Li",
      "photoUrl": "",
      "userId": "08205607102698019405"
     },
     "user_tz": 420
    },
    "id": "KpUT8viNSagM",
    "outputId": "cc257f42-055c-45bc-fd67-99e3a2a9b162"
   },
   "outputs": [
    {
     "name": "stdout",
     "output_type": "stream",
     "text": [
      "root\n",
      " |-- timestamp: string (nullable = true)\n",
      " |-- clickId: string (nullable = true)\n",
      " |-- userId: string (nullable = true)\n",
      " |-- userSessionId: string (nullable = true)\n",
      " |-- isHit: string (nullable = true)\n",
      " |-- teamId: string (nullable = true)\n",
      " |-- teamLevel: string (nullable = true)\n",
      "\n"
     ]
    }
   ],
   "source": [
    "gameclicks.printSchema()"
   ]
  },
  {
   "cell_type": "code",
   "execution_count": null,
   "metadata": {
    "colab": {
     "base_uri": "https://localhost:8080/",
     "height": 173
    },
    "executionInfo": {
     "elapsed": 401,
     "status": "ok",
     "timestamp": 1584320179107,
     "user": {
      "displayName": "Dan Li",
      "photoUrl": "",
      "userId": "08205607102698019405"
     },
     "user_tz": 420
    },
    "id": "MoZR24RIXTuf",
    "outputId": "a158aff3-bbc7-4fb1-9267-efbd38c717a1"
   },
   "outputs": [
    {
     "name": "stdout",
     "output_type": "stream",
     "text": [
      "root\n",
      " |-- timestamp: string (nullable = true)\n",
      " |-- txId: string (nullable = true)\n",
      " |-- userSessionId: string (nullable = true)\n",
      " |-- teamId: string (nullable = true)\n",
      " |-- userId: string (nullable = true)\n",
      " |-- adId: string (nullable = true)\n",
      " |-- adCategory: string (nullable = true)\n",
      "\n"
     ]
    }
   ],
   "source": [
    "adclicks.printSchema()"
   ]
  },
  {
   "cell_type": "markdown",
   "metadata": {
    "id": "iu7n8KKjSagS"
   },
   "source": [
    "Get a formatted sample with `show()`:"
   ]
  },
  {
   "cell_type": "code",
   "execution_count": null,
   "metadata": {
    "id": "nwYZrwanSagT"
   },
   "outputs": [],
   "source": [
    "gameclicks.show()"
   ]
  },
  {
   "cell_type": "markdown",
   "metadata": {
    "id": "CaWkvdItzWeW"
   },
   "source": [
    "Find the number of records:"
   ]
  },
  {
   "cell_type": "code",
   "execution_count": null,
   "metadata": {
    "colab": {
     "base_uri": "https://localhost:8080/",
     "height": 52
    },
    "executionInfo": {
     "elapsed": 1351,
     "status": "ok",
     "timestamp": 1584336819163,
     "user": {
      "displayName": "Dan Li",
      "photoUrl": "",
      "userId": "08205607102698019405"
     },
     "user_tz": 420
    },
    "id": "hMAab2rJSagU",
    "outputId": "c348ab01-a55c-4de5-a21d-42248f04887e"
   },
   "outputs": [
    {
     "name": "stdout",
     "output_type": "stream",
     "text": [
      "In total there are 755806 game clicks\n",
      "In total there are 16323 ad clicks\n"
     ]
    }
   ],
   "source": [
    "print(\"In total there are {0} game clicks\".format(gameclicks.count()))\n",
    "\n",
    "print(\"In total there are {0} ad clicks\".format(adclicks.count()))\n"
   ]
  },
  {
   "cell_type": "markdown",
   "metadata": {
    "id": "hkKWEEcLSagW"
   },
   "source": [
    "## **Question 1: How many users in each team?**\n",
    "Keywords: `Dataframe API`, `SQL`, `group by`, `sort`"
   ]
  },
  {
   "cell_type": "markdown",
   "metadata": {
    "id": "MwPL1-P5SagW"
   },
   "source": [
    "Use [DataFrame API](https://spark.apache.org/docs/latest/api/python/pyspark.sql.html#pyspark.sql.DataFrame) to group the users by `teamID` and count how many distinct users in each team. Sort the result in descending order."
   ]
  },
  {
   "cell_type": "code",
   "execution_count": null,
   "metadata": {
    "colab": {
     "base_uri": "https://localhost:8080/",
     "height": 469
    },
    "executionInfo": {
     "elapsed": 2898,
     "status": "ok",
     "timestamp": 1584336831672,
     "user": {
      "displayName": "Dan Li",
      "photoUrl": "",
      "userId": "08205607102698019405"
     },
     "user_tz": 420
    },
    "id": "BWcMVcgwSagX",
    "outputId": "350f16b5-06c0-4dc8-b7b0-50668ae91d3a",
    "scrolled": true
   },
   "outputs": [
    {
     "name": "stdout",
     "output_type": "stream",
     "text": [
      "+------+---------+\n",
      "|teamID|UserCount|\n",
      "+------+---------+\n",
      "|    22|       33|\n",
      "|    53|       26|\n",
      "|    64|       25|\n",
      "|    18|       25|\n",
      "|    35|       23|\n",
      "|    71|       21|\n",
      "|    86|       21|\n",
      "|    27|       21|\n",
      "|    72|       21|\n",
      "|    84|       20|\n",
      "|    99|       20|\n",
      "|     9|       20|\n",
      "|    36|       19|\n",
      "|    77|       19|\n",
      "|    74|       19|\n",
      "|    13|       19|\n",
      "|    75|       18|\n",
      "|    97|       18|\n",
      "|    51|       18|\n",
      "|    66|       18|\n",
      "+------+---------+\n",
      "only showing top 20 rows\n",
      "\n"
     ]
    }
   ],
   "source": [
    "team_counts = # your code goes here (Q1a: 4 points)\n",
    "\n",
    "team_counts.show()"
   ]
  },
  {
   "cell_type": "markdown",
   "metadata": {
    "id": "t5trEAkzSagY"
   },
   "source": [
    "# Now rewrite the above question using pure SQL:"
   ]
  },
  {
   "cell_type": "code",
   "execution_count": null,
   "metadata": {
    "colab": {
     "base_uri": "https://localhost:8080/",
     "height": 469
    },
    "executionInfo": {
     "elapsed": 2763,
     "status": "ok",
     "timestamp": 1584336845302,
     "user": {
      "displayName": "Dan Li",
      "photoUrl": "",
      "userId": "08205607102698019405"
     },
     "user_tz": 420
    },
    "id": "3slo-sXOSagZ",
    "outputId": "9c9c7c76-7142-4e1d-a7c4-2926cf6b6dfc"
   },
   "outputs": [
    {
     "name": "stdout",
     "output_type": "stream",
     "text": [
      "+------+---------+\n",
      "|teamID|UserCount|\n",
      "+------+---------+\n",
      "|    22|       33|\n",
      "|    53|       26|\n",
      "|    64|       25|\n",
      "|    18|       25|\n",
      "|    35|       23|\n",
      "|    86|       21|\n",
      "|    71|       21|\n",
      "|    27|       21|\n",
      "|    72|       21|\n",
      "|    99|       20|\n",
      "|    84|       20|\n",
      "|     9|       20|\n",
      "|    13|       19|\n",
      "|    36|       19|\n",
      "|    74|       19|\n",
      "|    77|       19|\n",
      "|    54|       18|\n",
      "|    66|       18|\n",
      "|    75|       18|\n",
      "|    51|       18|\n",
      "+------+---------+\n",
      "only showing top 20 rows\n",
      "\n"
     ]
    }
   ],
   "source": [
    "gameclicks.registerTempTable(\"gameclicks\")\n",
    "\n",
    "query = # your code goes here (Q1b: 2 points)\n",
    "\n",
    "team_counts = spark.sql(query)\n",
    "team_counts.show()"
   ]
  },
  {
   "cell_type": "markdown",
   "metadata": {
    "id": "5wQNXQnOSaga"
   },
   "source": [
    "##The `team_counts` Dataframe is small enough to be moved to Pandas:"
   ]
  },
  {
   "cell_type": "code",
   "execution_count": null,
   "metadata": {
    "colab": {
     "base_uri": "https://localhost:8080/",
     "height": 206
    },
    "executionInfo": {
     "elapsed": 3149,
     "status": "ok",
     "timestamp": 1584336860580,
     "user": {
      "displayName": "Dan Li",
      "photoUrl": "",
      "userId": "08205607102698019405"
     },
     "user_tz": 420
    },
    "id": "4nVJdPLDSagb",
    "outputId": "0f0b2789-9d32-48fb-a7e4-0b240faabcc7"
   },
   "outputs": [
    {
     "data": {
      "text/html": [
       "<div>\n",
       "<style scoped>\n",
       "    .dataframe tbody tr th:only-of-type {\n",
       "        vertical-align: middle;\n",
       "    }\n",
       "\n",
       "    .dataframe tbody tr th {\n",
       "        vertical-align: top;\n",
       "    }\n",
       "\n",
       "    .dataframe thead th {\n",
       "        text-align: right;\n",
       "    }\n",
       "</style>\n",
       "<table border=\"1\" class=\"dataframe\">\n",
       "  <thead>\n",
       "    <tr style=\"text-align: right;\">\n",
       "      <th></th>\n",
       "      <th>teamID</th>\n",
       "      <th>UserCount</th>\n",
       "    </tr>\n",
       "  </thead>\n",
       "  <tbody>\n",
       "    <tr>\n",
       "      <th>0</th>\n",
       "      <td>22</td>\n",
       "      <td>33</td>\n",
       "    </tr>\n",
       "    <tr>\n",
       "      <th>1</th>\n",
       "      <td>53</td>\n",
       "      <td>26</td>\n",
       "    </tr>\n",
       "    <tr>\n",
       "      <th>2</th>\n",
       "      <td>64</td>\n",
       "      <td>25</td>\n",
       "    </tr>\n",
       "    <tr>\n",
       "      <th>3</th>\n",
       "      <td>18</td>\n",
       "      <td>25</td>\n",
       "    </tr>\n",
       "    <tr>\n",
       "      <th>4</th>\n",
       "      <td>35</td>\n",
       "      <td>23</td>\n",
       "    </tr>\n",
       "  </tbody>\n",
       "</table>\n",
       "</div>"
      ],
      "text/plain": [
       "  teamID  UserCount\n",
       "0     22         33\n",
       "1     53         26\n",
       "2     64         25\n",
       "3     18         25\n",
       "4     35         23"
      ]
     },
     "execution_count": 192,
     "metadata": {
      "tags": []
     },
     "output_type": "execute_result"
    }
   ],
   "source": [
    "team_counts_pd = team_counts.toPandas()\n",
    "team_counts_pd.head()"
   ]
  },
  {
   "cell_type": "markdown",
   "metadata": {
    "id": "VQedtuQZSagc"
   },
   "source": [
    "##Plot a histogram using the number of users by team:"
   ]
  },
  {
   "cell_type": "code",
   "execution_count": null,
   "metadata": {
    "colab": {
     "base_uri": "https://localhost:8080/",
     "height": 475
    },
    "executionInfo": {
     "elapsed": 561,
     "status": "ok",
     "timestamp": 1584336872202,
     "user": {
      "displayName": "Dan Li",
      "photoUrl": "",
      "userId": "08205607102698019405"
     },
     "user_tz": 420
    },
    "id": "tgbceprDSagd",
    "outputId": "42242546-c89d-4b5c-e16d-b7f854653a15"
   },
   "outputs": [
    {
     "data": {
      "text/plain": [
       "Text(0.5, 1.0, 'Histogram on user numbers')"
      ]
     },
     "execution_count": 193,
     "metadata": {
      "tags": []
     },
     "output_type": "execute_result"
    },
    {
     "data": {
      "image/png": "[encoded data removed]",
      "text/plain": [
       "<Figure size 720x504 with 1 Axes>"
      ]
     },
     "metadata": {
      "tags": []
     },
     "output_type": "display_data"
    }
   ],
   "source": [
    "# your code goes here (Q1c: 4 points)\n"
   ]
  },
  {
   "cell_type": "markdown",
   "metadata": {
    "id": "1jCZfwK2Sage"
   },
   "source": [
    "----"
   ]
  },
  {
   "cell_type": "markdown",
   "metadata": {
    "id": "LLan66cXSagf"
   },
   "source": [
    "## **Questions 2: Now use the `ad-clicks` dataset to find the number of ad clicks in each hour.**\n",
    "\n",
    "Keywords: `group by`, `parse timestamp`, `plot`"
   ]
  },
  {
   "cell_type": "code",
   "execution_count": null,
   "metadata": {
    "colab": {
     "base_uri": "https://localhost:8080/",
     "height": 521
    },
    "executionInfo": {
     "elapsed": 824,
     "status": "ok",
     "timestamp": 1584336878243,
     "user": {
      "displayName": "Dan Li",
      "photoUrl": "",
      "userId": "08205607102698019405"
     },
     "user_tz": 420
    },
    "id": "BXNKt5PHSagf",
    "outputId": "acf2184d-561e-48ac-aad3-6d8d3eeb85e2"
   },
   "outputs": [
    {
     "name": "stdout",
     "output_type": "stream",
     "text": [
      "+----+----------+\n",
      "|hour|ClickCount|\n",
      "+----+----------+\n",
      "|   0|       605|\n",
      "|   1|       728|\n",
      "|   2|       633|\n",
      "|   3|       552|\n",
      "|   4|       614|\n",
      "|   5|       691|\n",
      "|   6|       710|\n",
      "|   7|       704|\n",
      "|   8|       726|\n",
      "|   9|       799|\n",
      "|  10|       705|\n",
      "|  11|       648|\n",
      "|  12|       714|\n",
      "|  13|       647|\n",
      "|  14|       623|\n",
      "|  15|       695|\n",
      "|  16|       707|\n",
      "|  17|       662|\n",
      "|  18|       686|\n",
      "|  19|       603|\n",
      "|  20|       675|\n",
      "|  21|       756|\n",
      "|  22|       696|\n",
      "|  23|       744|\n",
      "+----+----------+\n",
      "\n"
     ]
    }
   ],
   "source": [
    "timestamp_only = adclicks.selectExpr([\"to_timestamp(timestamp) as timestamp\"])\n",
    "\n",
    "click_count_by_hour = # your code goes here (Q2a: 4 points)\n",
    "\n",
    "click_count_by_hour.show(24) "
   ]
  },
  {
   "cell_type": "markdown",
   "metadata": {
    "id": "IAhOE55wSagj"
   },
   "source": [
    "# Use line plot to show the number of clicks by hour:"
   ]
  },
  {
   "cell_type": "code",
   "execution_count": null,
   "metadata": {
    "colab": {
     "base_uri": "https://localhost:8080/",
     "height": 475
    },
    "executionInfo": {
     "elapsed": 1147,
     "status": "ok",
     "timestamp": 1584336885035,
     "user": {
      "displayName": "Dan Li",
      "photoUrl": "",
      "userId": "08205607102698019405"
     },
     "user_tz": 420
    },
    "id": "wLq6ulAySagl",
    "outputId": "462818c0-eff0-433b-f26b-9bd6ce456f8a"
   },
   "outputs": [
    {
     "data": {
      "text/plain": [
       "Text(0.5, 1.0, 'Number of Clicks by Hour')"
      ]
     },
     "execution_count": 195,
     "metadata": {
      "tags": []
     },
     "output_type": "execute_result"
    },
    {
     "data": {
      "image/png": "[encoded data removed]",
      "text/plain": [
       "<Figure size 720x504 with 1 Axes>"
      ]
     },
     "metadata": {
      "tags": []
     },
     "output_type": "display_data"
    }
   ],
   "source": [
    "click_by_hour_pd = click_count_by_hour.toPandas()\n",
    "\n",
    "# your code goes here (Q2b: 4 points)"
   ]
  },
  {
   "cell_type": "markdown",
   "metadata": {
    "id": "uEwBspLySagp"
   },
   "source": [
    "## Question 3: Use `map` and `reduce` with RDD\n",
    "\n",
    "Keywords: `RDD map reduce`"
   ]
  },
  {
   "cell_type": "markdown",
   "metadata": {
    "id": "HmGQaFp21sux"
   },
   "source": [
    "Now we want to find the number of clicks of each `adCategorory` using `map` and `reduce` with RDD. Since we only care the `adCategory`, let's select this column only."
   ]
  },
  {
   "cell_type": "code",
   "execution_count": null,
   "metadata": {
    "colab": {
     "base_uri": "https://localhost:8080/",
     "height": 295
    },
    "executionInfo": {
     "elapsed": 409,
     "status": "ok",
     "timestamp": 1584336890268,
     "user": {
      "displayName": "Dan Li",
      "photoUrl": "",
      "userId": "08205607102698019405"
     },
     "user_tz": 420
    },
    "id": "a-T5uROOtYq9",
    "outputId": "e2420d8b-eb06-4137-fe96-3c79a2528c57"
   },
   "outputs": [
    {
     "name": "stdout",
     "output_type": "stream",
     "text": [
      "+-----------+\n",
      "| adCategory|\n",
      "+-----------+\n",
      "|electronics|\n",
      "|     movies|\n",
      "|  computers|\n",
      "|    fashion|\n",
      "|   clothing|\n",
      "|      games|\n",
      "|     movies|\n",
      "|electronics|\n",
      "|electronics|\n",
      "|  computers|\n",
      "+-----------+\n",
      "only showing top 10 rows\n",
      "\n"
     ]
    }
   ],
   "source": [
    "categoryOnly = adclicks.select(\"adCategory\")\n",
    "categoryOnly.show(10)\n"
   ]
  },
  {
   "cell_type": "markdown",
   "metadata": {
    "id": "2PHZStWQSag9"
   },
   "source": [
    "Now use explicit Map/Reduce format with RDDs.\n",
    "\n",
    "First we emit a pair in the format (`adCategory`, 1) by using a `map()` function:"
   ]
  },
  {
   "cell_type": "code",
   "execution_count": null,
   "metadata": {
    "colab": {
     "base_uri": "https://localhost:8080/",
     "height": 104
    },
    "executionInfo": {
     "elapsed": 392,
     "status": "ok",
     "timestamp": 1584337235705,
     "user": {
      "displayName": "Dan Li",
      "photoUrl": "",
      "userId": "08205607102698019405"
     },
     "user_tz": 420
    },
    "id": "OgEeKdtYSag9",
    "outputId": "43545ed6-a036-4353-e6ce-6c769673132e"
   },
   "outputs": [
    {
     "data": {
      "text/plain": [
       "[('electronics', 1),\n",
       " ('movies', 1),\n",
       " ('computers', 1),\n",
       " ('fashion', 1),\n",
       " ('clothing', 1)]"
      ]
     },
     "execution_count": 197,
     "metadata": {
      "tags": []
     },
     "output_type": "execute_result"
    }
   ],
   "source": [
    "all_categories = # your code goes here (Q3a: 3 points)\n",
    "all_categories.take(5)"
   ]
  },
  {
   "cell_type": "markdown",
   "metadata": {
    "id": "iMkH4w-18fIu"
   },
   "source": [
    "Then, we sum counts by using a `reduce()` function, and then we sort by count:"
   ]
  },
  {
   "cell_type": "code",
   "execution_count": null,
   "metadata": {
    "colab": {
     "base_uri": "https://localhost:8080/",
     "height": 34
    },
    "executionInfo": {
     "elapsed": 563,
     "status": "ok",
     "timestamp": 1584337240705,
     "user": {
      "displayName": "Dan Li",
      "photoUrl": "",
      "userId": "08205607102698019405"
     },
     "user_tz": 420
    },
    "id": "_hVvIF_WSag_",
    "outputId": "6a98e8a8-e0ae-4035-8772-d6043601d887"
   },
   "outputs": [
    {
     "data": {
      "text/plain": [
       "[('computers', 2638), ('games', 2601), ('clothing', 2340)]"
      ]
     },
     "execution_count": 198,
     "metadata": {
      "tags": []
     },
     "output_type": "execute_result"
    }
   ],
   "source": [
    "category_counts_rdd = # your code goes here (Q3b: 4 points)\n",
    "category_counts_rdd.take(3)"
   ]
  },
  {
   "cell_type": "markdown",
   "metadata": {
    "id": "od5h9c6qSahB"
   },
   "source": [
    "Now we want to convert the `category_counts_rdd` to a dataframe `category_counts` by mappying the corresponding columns."
   ]
  },
  {
   "cell_type": "code",
   "execution_count": null,
   "metadata": {
    "colab": {
     "base_uri": "https://localhost:8080/",
     "height": 260
    },
    "executionInfo": {
     "elapsed": 578,
     "status": "ok",
     "timestamp": 1584337243474,
     "user": {
      "displayName": "Dan Li",
      "photoUrl": "",
      "userId": "08205607102698019405"
     },
     "user_tz": 420
    },
    "id": "KNDn84R_SahB",
    "outputId": "7956c428-4700-4263-c4c0-6d59ac053b66"
   },
   "outputs": [
    {
     "name": "stdout",
     "output_type": "stream",
     "text": [
      "+--------------+-----------+\n",
      "|CategoriyCount| adCategory|\n",
      "+--------------+-----------+\n",
      "|          2638|  computers|\n",
      "|          2601|      games|\n",
      "|          2340|   clothing|\n",
      "|          2074|     sports|\n",
      "|          1727|    fashion|\n",
      "|          1692|     movies|\n",
      "|          1588|   hardware|\n",
      "|          1097|electronics|\n",
      "|           566| automotive|\n",
      "+--------------+-----------+\n",
      "\n"
     ]
    }
   ],
   "source": [
    "category_counts = # your code goes here (Q3c: 4 points)\n",
    "category_counts.show()"
   ]
  },
  {
   "cell_type": "markdown",
   "metadata": {
    "id": "LuhTAGKXylHE"
   },
   "source": [
    "Now use SparkSQL to verify the above result:"
   ]
  },
  {
   "cell_type": "code",
   "execution_count": null,
   "metadata": {
    "colab": {
     "base_uri": "https://localhost:8080/",
     "height": 260
    },
    "executionInfo": {
     "elapsed": 851,
     "status": "ok",
     "timestamp": 1584337247932,
     "user": {
      "displayName": "Dan Li",
      "photoUrl": "",
      "userId": "08205607102698019405"
     },
     "user_tz": 420
    },
    "id": "9nFc6vixyeCT",
    "outputId": "54bf3495-dbf4-47e2-99a6-e8e2ed1fe627"
   },
   "outputs": [
    {
     "name": "stdout",
     "output_type": "stream",
     "text": [
      "+-----------+-------------+\n",
      "| adCategory|CategoryCount|\n",
      "+-----------+-------------+\n",
      "|  computers|         2638|\n",
      "|      games|         2601|\n",
      "|   clothing|         2340|\n",
      "|     sports|         2074|\n",
      "|    fashion|         1727|\n",
      "|     movies|         1692|\n",
      "|   hardware|         1588|\n",
      "|electronics|         1097|\n",
      "| automotive|          566|\n",
      "+-----------+-------------+\n",
      "\n"
     ]
    }
   ],
   "source": [
    "#print(adclicks.count())\n",
    "\n",
    "adclicks.registerTempTable(\"adclicks\")\n",
    "\n",
    "query = # your code goes here (Q3d: 1 point)\n",
    "\n",
    "category_counts = spark.sql(query)\n",
    "category_counts.show()\n"
   ]
  },
  {
   "cell_type": "markdown",
   "metadata": {
    "id": "xYzcpVwR3SyZ"
   },
   "source": [
    "#Congratulations on the first Spark assignment!"
   ]
  }
 ],
 "metadata": {
  "colab": {
   "collapsed_sections": [],
   "machine_shape": "hm",
   "name": "Colab1.ipynb",
   "provenance": [
    {
     "file_id": "1gc6u6hItUKY9uJt6GXHaneSYCMaGcxp1",
     "timestamp": 1581543433917
    },
    {
     "file_id": "1CqWY4pk7_VFxi8K8v4asr18ed0Hs8FVA",
     "timestamp": 1578441204356
    }
   ],
   "toc_visible": true
  },
  "kernelspec": {
   "display_name": "Python 3",
   "language": "python",
   "name": "python3"
  },
  "language_info": {
   "codemirror_mode": {
    "name": "ipython",
    "version": 3
   },
   "file_extension": ".py",
   "mimetype": "text/x-python",
   "name": "python",
   "nbconvert_exporter": "python",
   "pygments_lexer": "ipython3",
   "version": "3.8.3"
  }
 },
 "nbformat": 4,
 "nbformat_minor": 1
}
